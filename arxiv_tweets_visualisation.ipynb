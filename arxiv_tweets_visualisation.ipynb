{
 "cells": [
  {
   "cell_type": "markdown",
   "metadata": {},
   "source": [
    "# Science on Twitter\n",
    "### What are the most popular Arxiv papers on Twitter?\n",
    "\n",
    "To find out what is hot right now, this code visualises the data gathered by listening to the stream of Twitter statuses with keyword 'arxiv'- [www.Arxiv.org](www.Arxiv.org) is a popular open library of scientific papers on many topics- and gathers links to the scientific papers.\n",
    "\n",
    "Take a look! Tables below show number of tweets that contained a link to a given Arxiv paper during the data gathering period.\n",
    "\n",
    "The data was gathered during 24 hours on 18th and 19th January 2017 ."
   ]
  },
  {
   "cell_type": "code",
   "execution_count": 1,
   "metadata": {
    "collapsed": false,
    "scrolled": false
   },
   "outputs": [
    {
     "name": "stdout",
     "output_type": "stream",
     "text": [
      "\n"
     ]
    },
    {
     "data": {
      "text/html": [
       "<h1>10 most popular Arxiv papers on Twitter</h1>"
      ],
      "text/plain": [
       "<IPython.core.display.HTML object>"
      ]
     },
     "metadata": {},
     "output_type": "display_data"
    },
    {
     "name": "stdout",
     "output_type": "stream",
     "text": [
      "\n"
     ]
    },
    {
     "data": {
      "text/html": [
       "<table border=\"1\" class=\"dataframe\">\n",
       "  <thead>\n",
       "    <tr style=\"text-align: right;\">\n",
       "      <th>Title</th>\n",
       "      <th>Area</th>\n",
       "      <th>Link</th>\n",
       "      <th>Tweets</th>\n",
       "    </tr>\n",
       "  </thead>\n",
       "  <tbody>\n",
       "    <tr>\n",
       "      <td>Automatic Knot Adjustment Using Dolphin Echolocation Algorithm for B-Spline Curve Approximation</td>\n",
       "      <td>Computer Science</td>\n",
       "      <td><a href=https://arxiv.org/abs/1701.04383>https://arxiv.org/abs/1701.04383</a></td>\n",
       "      <td>47</td>\n",
       "    </tr>\n",
       "    <tr>\n",
       "      <td>A Tutorial on Principal Component Analysis</td>\n",
       "      <td>Computer Science</td>\n",
       "      <td><a href=https://arxiv.org/abs/1404.1100>https://arxiv.org/abs/1404.1100</a></td>\n",
       "      <td>29</td>\n",
       "    </tr>\n",
       "    <tr>\n",
       "      <td>Multilayer Perceptron Algebra</td>\n",
       "      <td>Statistics</td>\n",
       "      <td><a href=https://arxiv.org/abs/1701.04968v1>https://arxiv.org/abs/1701.04968v1</a></td>\n",
       "      <td>26</td>\n",
       "    </tr>\n",
       "    <tr>\n",
       "      <td>Bringing Impressionism to Life with Neural Style Transfer in Come Swim</td>\n",
       "      <td>Computer Science</td>\n",
       "      <td><a href=https://arxiv.org/abs/1701.04928v1>https://arxiv.org/abs/1701.04928v1</a></td>\n",
       "      <td>21</td>\n",
       "    </tr>\n",
       "    <tr>\n",
       "      <td>On the Performance of Network Parallel Training in Artificial Neural Networks</td>\n",
       "      <td>Computer Science</td>\n",
       "      <td><a href=https://arxiv.org/abs/1701.05130v1>https://arxiv.org/abs/1701.05130v1</a></td>\n",
       "      <td>16</td>\n",
       "    </tr>\n",
       "    <tr>\n",
       "      <td>Towards Principled Methods for Training Generative Adversarial Networks</td>\n",
       "      <td>Statistics</td>\n",
       "      <td><a href=https://arxiv.org/abs/1701.04862v1>https://arxiv.org/abs/1701.04862v1</a></td>\n",
       "      <td>16</td>\n",
       "    </tr>\n",
       "    <tr>\n",
       "      <td>On the Equivalence of Restricted Boltzmann Machines and Tensor Network States</td>\n",
       "      <td>Physics</td>\n",
       "      <td><a href=https://arxiv.org/abs/1701.04831v1>https://arxiv.org/abs/1701.04831v1</a></td>\n",
       "      <td>15</td>\n",
       "    </tr>\n",
       "    <tr>\n",
       "      <td>Converting Cascade-Correlation Neural Nets into Probabilistic Generative Models</td>\n",
       "      <td>Biology</td>\n",
       "      <td><a href=https://arxiv.org/abs/1701.05004v1>https://arxiv.org/abs/1701.05004v1</a></td>\n",
       "      <td>14</td>\n",
       "    </tr>\n",
       "    <tr>\n",
       "      <td>A Deep Convolutional Auto-Encoder with Pooling - Unpooling Layers in Caffe</td>\n",
       "      <td>Computer Science</td>\n",
       "      <td><a href=https://arxiv.org/abs/1701.04949v1>https://arxiv.org/abs/1701.04949v1</a></td>\n",
       "      <td>13</td>\n",
       "    </tr>\n",
       "    <tr>\n",
       "      <td>Face Synthesis from Facial Identity Features</td>\n",
       "      <td>Computer Science</td>\n",
       "      <td><a href=https://arxiv.org/abs/1701.04851v1>https://arxiv.org/abs/1701.04851v1</a></td>\n",
       "      <td>13</td>\n",
       "    </tr>\n",
       "  </tbody>\n",
       "</table>"
      ],
      "text/plain": [
       "<IPython.core.display.HTML object>"
      ]
     },
     "metadata": {},
     "output_type": "display_data"
    },
    {
     "data": {
      "image/png": "[encoded data removed]",
      "text/plain": [
       "<matplotlib.figure.Figure at 0x7f6843301090>"
      ]
     },
     "metadata": {},
     "output_type": "display_data"
    }
   ],
   "source": [
    "%matplotlib inline\n",
    "\n",
    "import matplotlib\n",
    "matplotlib.style.use('ggplot')\n",
    "\n",
    "import pandas as pd\n",
    "import os.path as op\n",
    "from IPython.display import display,HTML\n",
    "\n",
    "pd.set_option('display.max_colwidth', -1)\n",
    "\n",
    "#Load and sort the data\n",
    "\n",
    "D=pd.read_json(op.join('data','data.json'),convert_axes=False)\n",
    "D.sort_values(by='Tweets', ascending=False, inplace=True)\n",
    "d=D[['Title','Area','Link','Tweets']]\n",
    "\n",
    "def linkformatter(link):\n",
    "    return \"<a href=\"+link+\">\" + link + \"</a>\"\n",
    "\n",
    "print\n",
    "display(HTML('<h1>10 most popular Arxiv papers on Twitter</h1>'))\n",
    "print\n",
    "display(HTML(d.head(10).to_html(index=False,escape=False,formatters={'Link': linkformatter})))\n",
    "\n",
    "#count articles in every area\n",
    "pie_data=d.pivot(columns='Area',values='Tweets').sum(axis=0)\n",
    "pie_data.name=''\n",
    "\n",
    "pie_data.index=pie_data.index+': '+((100*pie_data/pie_data.sum()).apply('{0:.2f}'.format))+ '%'\n",
    "\n",
    "#plot piechart\n",
    "pie=pie_data.plot.pie(figsize=(6,6),\n",
    "                      title='Subjects of the papers in the tweets\\n('+str(int(pie_data.sum()))+' tweets total)')"
   ]
  },
  {
   "cell_type": "code",
   "execution_count": 2,
   "metadata": {
    "collapsed": false,
    "scrolled": false
   },
   "outputs": [
    {
     "name": "stdout",
     "output_type": "stream",
     "text": [
      "\n"
     ]
    },
    {
     "data": {
      "text/html": [
       "<h1>10 most popular physics papers"
      ],
      "text/plain": [
       "<IPython.core.display.HTML object>"
      ]
     },
     "metadata": {},
     "output_type": "display_data"
    },
    {
     "name": "stdout",
     "output_type": "stream",
     "text": [
      "\n"
     ]
    },
    {
     "data": {
      "text/html": [
       "<table border=\"1\" class=\"dataframe\">\n",
       "  <thead>\n",
       "    <tr style=\"text-align: right;\">\n",
       "      <th>Title</th>\n",
       "      <th>Area</th>\n",
       "      <th>Link</th>\n",
       "      <th>Tweets</th>\n",
       "    </tr>\n",
       "  </thead>\n",
       "  <tbody>\n",
       "    <tr>\n",
       "      <td>On the Equivalence of Restricted Boltzmann Machines and Tensor Network States</td>\n",
       "      <td>Physics</td>\n",
       "      <td><a href=https://arxiv.org/abs/1701.04831v1>https://arxiv.org/abs/1701.04831v1</a></td>\n",
       "      <td>15</td>\n",
       "    </tr>\n",
       "    <tr>\n",
       "      <td>Interaction of two filaments in a long filament channel associated with twin coronal mass ejections</td>\n",
       "      <td>Physics</td>\n",
       "      <td><a href=https://arxiv.org/abs/1701.05122>https://arxiv.org/abs/1701.05122</a></td>\n",
       "      <td>9</td>\n",
       "    </tr>\n",
       "    <tr>\n",
       "      <td>Evaluating (and Improving) Estimates of the Solar Radial Magnetic Field Component from Line-of-Sight Magnetograms</td>\n",
       "      <td>Physics</td>\n",
       "      <td><a href=https://arxiv.org/abs/1701.04836>https://arxiv.org/abs/1701.04836</a></td>\n",
       "      <td>9</td>\n",
       "    </tr>\n",
       "    <tr>\n",
       "      <td>UV/EUV High-Throughput Spectroscopic Telescope: A Next Generation Solar Physics Mission white paper</td>\n",
       "      <td>Physics</td>\n",
       "      <td><a href=https://arxiv.org/abs/1701.04972>https://arxiv.org/abs/1701.04972</a></td>\n",
       "      <td>8</td>\n",
       "    </tr>\n",
       "    <tr>\n",
       "      <td>Efficient Representation of Quantum Many-body States with Deep Neural Networks</td>\n",
       "      <td>Physics</td>\n",
       "      <td><a href=https://arxiv.org/abs/1701.05039>https://arxiv.org/abs/1701.05039</a></td>\n",
       "      <td>7</td>\n",
       "    </tr>\n",
       "    <tr>\n",
       "      <td>Quantum Entanglement in Neural Network States</td>\n",
       "      <td>Physics</td>\n",
       "      <td><a href=https://arxiv.org/abs/1701.04844>https://arxiv.org/abs/1701.04844</a></td>\n",
       "      <td>7</td>\n",
       "    </tr>\n",
       "    <tr>\n",
       "      <td>Gaussian-based coupled-cluster theory for the ground state and band structure of solids</td>\n",
       "      <td>Physics</td>\n",
       "      <td><a href=https://arxiv.org/abs/1701.04832>https://arxiv.org/abs/1701.04832</a></td>\n",
       "      <td>4</td>\n",
       "    </tr>\n",
       "    <tr>\n",
       "      <td>Synchronization and long-time memory in neural networks with inhibitory hubs and synaptic plasticity</td>\n",
       "      <td>Physics</td>\n",
       "      <td><a href=https://arxiv.org/abs/1701.05056>https://arxiv.org/abs/1701.05056</a></td>\n",
       "      <td>4</td>\n",
       "    </tr>\n",
       "    <tr>\n",
       "      <td>The Sun as a probe of Fundamental Physics and Cosmology</td>\n",
       "      <td>Physics</td>\n",
       "      <td><a href=https://arxiv.org/abs/1701.03926>https://arxiv.org/abs/1701.03926</a></td>\n",
       "      <td>4</td>\n",
       "    </tr>\n",
       "    <tr>\n",
       "      <td>Mercury's magnetic field in the MESSENGER era</td>\n",
       "      <td>Physics</td>\n",
       "      <td><a href=https://arxiv.org/abs/1701.05060>https://arxiv.org/abs/1701.05060</a></td>\n",
       "      <td>4</td>\n",
       "    </tr>\n",
       "  </tbody>\n",
       "</table>"
      ],
      "text/plain": [
       "<IPython.core.display.HTML object>"
      ]
     },
     "metadata": {},
     "output_type": "display_data"
    }
   ],
   "source": [
    "print\n",
    "display(HTML('<h1>10 most popular physics papers'))\n",
    "print\n",
    "display(HTML(d[d.Area=='Physics'].head(10).to_html(index=False,escape=False,formatters={'Link': linkformatter})))"
   ]
  },
  {
   "cell_type": "code",
   "execution_count": 3,
   "metadata": {
    "collapsed": false
   },
   "outputs": [
    {
     "name": "stdout",
     "output_type": "stream",
     "text": [
      "\n"
     ]
    },
    {
     "data": {
      "text/html": [
       "<h1>10 most popular statistics papers</h1><p>This is not a bug- on Arxiv, machine learning is a subcategory of statistics.</p>"
      ],
      "text/plain": [
       "<IPython.core.display.HTML object>"
      ]
     },
     "metadata": {},
     "output_type": "display_data"
    },
    {
     "name": "stdout",
     "output_type": "stream",
     "text": [
      "\n"
     ]
    },
    {
     "data": {
      "text/html": [
       "<table border=\"1\" class=\"dataframe\">\n",
       "  <thead>\n",
       "    <tr style=\"text-align: right;\">\n",
       "      <th>Title</th>\n",
       "      <th>Area</th>\n",
       "      <th>Link</th>\n",
       "      <th>Tweets</th>\n",
       "    </tr>\n",
       "  </thead>\n",
       "  <tbody>\n",
       "    <tr>\n",
       "      <td>Multilayer Perceptron Algebra</td>\n",
       "      <td>Statistics</td>\n",
       "      <td><a href=https://arxiv.org/abs/1701.04968v1>https://arxiv.org/abs/1701.04968v1</a></td>\n",
       "      <td>26</td>\n",
       "    </tr>\n",
       "    <tr>\n",
       "      <td>Towards Principled Methods for Training Generative Adversarial Networks</td>\n",
       "      <td>Statistics</td>\n",
       "      <td><a href=https://arxiv.org/abs/1701.04862v1>https://arxiv.org/abs/1701.04862v1</a></td>\n",
       "      <td>16</td>\n",
       "    </tr>\n",
       "    <tr>\n",
       "      <td>A Machine Learning Alternative to P-values</td>\n",
       "      <td>Statistics</td>\n",
       "      <td><a href=https://arxiv.org/abs/1701.04944>https://arxiv.org/abs/1701.04944</a></td>\n",
       "      <td>11</td>\n",
       "    </tr>\n",
       "    <tr>\n",
       "      <td>DyNet: The Dynamic Neural Network Toolkit</td>\n",
       "      <td>Statistics</td>\n",
       "      <td><a href=https://arxiv.org/abs/1701.03980>https://arxiv.org/abs/1701.03980</a></td>\n",
       "      <td>7</td>\n",
       "    </tr>\n",
       "    <tr>\n",
       "      <td>Deep Probabilistic Programming</td>\n",
       "      <td>Statistics</td>\n",
       "      <td><a href=https://arxiv.org/abs/1701.03757v1>https://arxiv.org/abs/1701.03757v1</a></td>\n",
       "      <td>6</td>\n",
       "    </tr>\n",
       "    <tr>\n",
       "      <td>Learning Bound for Parameter Transfer Learning</td>\n",
       "      <td>Statistics</td>\n",
       "      <td><a href=https://arxiv.org/abs/1610.08696v3>https://arxiv.org/abs/1610.08696v3</a></td>\n",
       "      <td>5</td>\n",
       "    </tr>\n",
       "    <tr>\n",
       "      <td>A Hierarchical Spatio-Temporal Analog Forecasting Model for Count Data</td>\n",
       "      <td>Statistics</td>\n",
       "      <td><a href=https://arxiv.org/abs/1701.04485>https://arxiv.org/abs/1701.04485</a></td>\n",
       "      <td>4</td>\n",
       "    </tr>\n",
       "    <tr>\n",
       "      <td>Efficient and Adaptive Linear Regression in Semi-Supervised Settings</td>\n",
       "      <td>Statistics</td>\n",
       "      <td><a href=https://arxiv.org/abs/1701.04889>https://arxiv.org/abs/1701.04889</a></td>\n",
       "      <td>4</td>\n",
       "    </tr>\n",
       "    <tr>\n",
       "      <td>A Constructive Approach to High-dimensional Regression</td>\n",
       "      <td>Statistics</td>\n",
       "      <td><a href=https://arxiv.org/abs/1701.05128>https://arxiv.org/abs/1701.05128</a></td>\n",
       "      <td>4</td>\n",
       "    </tr>\n",
       "    <tr>\n",
       "      <td>Covariate-powered weighted multiple testing with false discovery rate control</td>\n",
       "      <td>Statistics</td>\n",
       "      <td><a href=https://arxiv.org/abs/1701.05179>https://arxiv.org/abs/1701.05179</a></td>\n",
       "      <td>4</td>\n",
       "    </tr>\n",
       "  </tbody>\n",
       "</table>"
      ],
      "text/plain": [
       "<IPython.core.display.HTML object>"
      ]
     },
     "metadata": {},
     "output_type": "display_data"
    }
   ],
   "source": [
    "print\n",
    "display(HTML('<h1>10 most popular statistics papers</h1><p>This is not a bug- on Arxiv, machine learning is a subcategory of statistics.</p>'))\n",
    "print\n",
    "display(HTML(d[d.Area=='Statistics'].head(10).to_html(index=False,escape=False,formatters={'Link': linkformatter})))"
   ]
  },
  {
   "cell_type": "code",
   "execution_count": 4,
   "metadata": {
    "collapsed": false,
    "scrolled": false
   },
   "outputs": [
    {
     "name": "stdout",
     "output_type": "stream",
     "text": [
      "\n"
     ]
    },
    {
     "data": {
      "text/html": [
       "<h1>10 most popular computer science papers"
      ],
      "text/plain": [
       "<IPython.core.display.HTML object>"
      ]
     },
     "metadata": {},
     "output_type": "display_data"
    },
    {
     "name": "stdout",
     "output_type": "stream",
     "text": [
      "\n"
     ]
    },
    {
     "data": {
      "text/html": [
       "<table border=\"1\" class=\"dataframe\">\n",
       "  <thead>\n",
       "    <tr style=\"text-align: right;\">\n",
       "      <th>Title</th>\n",
       "      <th>Area</th>\n",
       "      <th>Link</th>\n",
       "      <th>Tweets</th>\n",
       "    </tr>\n",
       "  </thead>\n",
       "  <tbody>\n",
       "    <tr>\n",
       "      <td>Automatic Knot Adjustment Using Dolphin Echolocation Algorithm for B-Spline Curve Approximation</td>\n",
       "      <td>Computer Science</td>\n",
       "      <td><a href=https://arxiv.org/abs/1701.04383>https://arxiv.org/abs/1701.04383</a></td>\n",
       "      <td>47</td>\n",
       "    </tr>\n",
       "    <tr>\n",
       "      <td>A Tutorial on Principal Component Analysis</td>\n",
       "      <td>Computer Science</td>\n",
       "      <td><a href=https://arxiv.org/abs/1404.1100>https://arxiv.org/abs/1404.1100</a></td>\n",
       "      <td>29</td>\n",
       "    </tr>\n",
       "    <tr>\n",
       "      <td>Bringing Impressionism to Life with Neural Style Transfer in Come Swim</td>\n",
       "      <td>Computer Science</td>\n",
       "      <td><a href=https://arxiv.org/abs/1701.04928v1>https://arxiv.org/abs/1701.04928v1</a></td>\n",
       "      <td>21</td>\n",
       "    </tr>\n",
       "    <tr>\n",
       "      <td>On the Performance of Network Parallel Training in Artificial Neural Networks</td>\n",
       "      <td>Computer Science</td>\n",
       "      <td><a href=https://arxiv.org/abs/1701.05130v1>https://arxiv.org/abs/1701.05130v1</a></td>\n",
       "      <td>16</td>\n",
       "    </tr>\n",
       "    <tr>\n",
       "      <td>A Deep Convolutional Auto-Encoder with Pooling - Unpooling Layers in Caffe</td>\n",
       "      <td>Computer Science</td>\n",
       "      <td><a href=https://arxiv.org/abs/1701.04949v1>https://arxiv.org/abs/1701.04949v1</a></td>\n",
       "      <td>13</td>\n",
       "    </tr>\n",
       "    <tr>\n",
       "      <td>Face Synthesis from Facial Identity Features</td>\n",
       "      <td>Computer Science</td>\n",
       "      <td><a href=https://arxiv.org/abs/1701.04851v1>https://arxiv.org/abs/1701.04851v1</a></td>\n",
       "      <td>13</td>\n",
       "    </tr>\n",
       "    <tr>\n",
       "      <td>Deep Neural Networks are Easily Fooled: High Confidence Predictions for Unrecognizable Images</td>\n",
       "      <td>Computer Science</td>\n",
       "      <td><a href=https://arxiv.org/abs/1412.1897v4>https://arxiv.org/abs/1412.1897v4</a></td>\n",
       "      <td>12</td>\n",
       "    </tr>\n",
       "    <tr>\n",
       "      <td>Compression of Deep Neural Networks for Image Instance Retrieval</td>\n",
       "      <td>Computer Science</td>\n",
       "      <td><a href=https://arxiv.org/abs/1701.04923v1>https://arxiv.org/abs/1701.04923v1</a></td>\n",
       "      <td>12</td>\n",
       "    </tr>\n",
       "    <tr>\n",
       "      <td>Deep Learning Features at Scale for Visual Place Recognition</td>\n",
       "      <td>Computer Science</td>\n",
       "      <td><a href=https://arxiv.org/abs/1701.05105v1>https://arxiv.org/abs/1701.05105v1</a></td>\n",
       "      <td>11</td>\n",
       "    </tr>\n",
       "    <tr>\n",
       "      <td>Zoneout: Regularizing RNNs by Randomly Preserving Hidden Activations</td>\n",
       "      <td>Computer Science</td>\n",
       "      <td><a href=https://arxiv.org/abs/1606.01305v3>https://arxiv.org/abs/1606.01305v3</a></td>\n",
       "      <td>10</td>\n",
       "    </tr>\n",
       "  </tbody>\n",
       "</table>"
      ],
      "text/plain": [
       "<IPython.core.display.HTML object>"
      ]
     },
     "metadata": {},
     "output_type": "display_data"
    }
   ],
   "source": [
    "print\n",
    "display(HTML('<h1>10 most popular computer science papers'))\n",
    "print\n",
    "display(HTML(d[d.Area=='Computer Science'].head(10).to_html(index=False,escape=False,formatters={'Link': linkformatter})))"
   ]
  },
  {
   "cell_type": "code",
   "execution_count": null,
   "metadata": {
    "collapsed": true
   },
   "outputs": [],
   "source": []
  }
 ],
 "metadata": {
  "celltoolbar": "Raw Cell Format",
  "kernelspec": {
   "display_name": "Python 2",
   "language": "python",
   "name": "python2"
  },
  "language_info": {
   "codemirror_mode": {
    "name": "ipython",
    "version": 2
   },
   "file_extension": ".py",
   "mimetype": "text/x-python",
   "name": "python",
   "nbconvert_exporter": "python",
   "pygments_lexer": "ipython2",
   "version": "2.7.12"
  }
 },
 "nbformat": 4,
 "nbformat_minor": 2
}
