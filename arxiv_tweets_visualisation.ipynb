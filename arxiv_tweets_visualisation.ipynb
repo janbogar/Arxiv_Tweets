{
 "cells": [
  {
   "cell_type": "markdown",
   "metadata": {},
   "source": [
    "# Data visualisation\n",
    "## What is hot on Twitter right now?\n",
    "\n",
    "Take a look! Tables show number of tweets that contained a link to a given paper during the data gathering period.\n",
    "\n",
    "The data was gathered during 24 hours on 18th and 19th January 2017 ."
   ]
  },
  {
   "cell_type": "code",
   "execution_count": null,
   "metadata": {
    "collapsed": false,
    "scrolled": false
   },
   "outputs": [],
   "source": [
    "%matplotlib inline\n",
    "\n",
    "import matplotlib\n",
    "matplotlib.style.use('ggplot')\n",
    "\n",
    "import pandas as pd\n",
    "import os.path as op\n",
    "from IPython.display import display,HTML\n",
    "\n",
    "pd.set_option('display.max_colwidth', -1)\n",
    "\n",
    "#Load and sort the data\n",
    "\n",
    "D=pd.read_json(op.join('data','data.json'),convert_axes=False)\n",
    "D.sort_values(by='Tweets', ascending=False, inplace=True)\n",
    "d=D[['Title','Area','Link','Tweets']]\n",
    "\n",
    "def linkformatter(link):\n",
    "    return \"<a href=\"+link+\">\" + link + \"</a>\"\n",
    "\n",
    "print\n",
    "display(HTML('<h1>10 most popular Arxiv papers on Twitter</h1>'))\n",
    "print\n",
    "display(HTML(d.head(10).to_html(index=False,escape=False,formatters={'Link': linkformatter})))\n",
    "\n",
    "#count articles in every area\n",
    "pie_data=d.pivot(columns='Area',values='Tweets').sum(axis=0)\n",
    "pie_data.name=''\n",
    "\n",
    "pie_data.index=pie_data.index+': '+((100*pie_data/pie_data.sum()).apply('{0:.2f}'.format))+ '%'\n",
    "\n",
    "#plot piechart\n",
    "pie=pie_data.plot.pie(figsize=(6,6),\n",
    "                      title='Subjects of the papers in the tweets\\n('+str(int(pie_data.sum()))+' tweets total)')"
   ]
  },
  {
   "cell_type": "code",
   "execution_count": null,
   "metadata": {
    "collapsed": false,
    "scrolled": false
   },
   "outputs": [],
   "source": [
    "print\n",
    "display(HTML('<h1>10 most popular physics papers'))\n",
    "print\n",
    "display(HTML(d[d.Area=='Physics'].head(10).to_html(index=False,escape=False,formatters={'Link': linkformatter})))"
   ]
  },
  {
   "cell_type": "code",
   "execution_count": null,
   "metadata": {
    "collapsed": false
   },
   "outputs": [],
   "source": [
    "print\n",
    "display(HTML('<h1>10 most popular statistics papers</h1><p>This is not a bug- on Arxiv, machine learning is a subcategory of statistics.</p>'))\n",
    "print\n",
    "display(HTML(d[d.Area=='Statistics'].head(10).to_html(index=False,escape=False,formatters={'Link': linkformatter})))"
   ]
  },
  {
   "cell_type": "code",
   "execution_count": null,
   "metadata": {
    "collapsed": false,
    "scrolled": false
   },
   "outputs": [],
   "source": [
    "print\n",
    "display(HTML('<h1>10 most popular computer science papers'))\n",
    "print\n",
    "display(HTML(d[d.Area=='Computer Science'].head(10).to_html(index=False,escape=False,formatters={'Link': linkformatter})))"
   ]
  },
  {
   "cell_type": "code",
   "execution_count": null,
   "metadata": {
    "collapsed": true
   },
   "outputs": [],
   "source": []
  }
 ],
 "metadata": {
  "celltoolbar": "Raw Cell Format",
  "kernelspec": {
   "display_name": "Python 2",
   "language": "python",
   "name": "python2"
  },
  "language_info": {
   "codemirror_mode": {
    "name": "ipython",
    "version": 2
   },
   "file_extension": ".py",
   "mimetype": "text/x-python",
   "name": "python",
   "nbconvert_exporter": "python",
   "pygments_lexer": "ipython2",
   "version": "2.7.12"
  }
 },
 "nbformat": 4,
 "nbformat_minor": 2
}
